{
 "cells": [
  {
   "cell_type": "markdown",
   "metadata": {},
   "source": [
    "\n",
    "       __|  __|_  )\n",
    "       _|  (     /   Amazon Linux AMI\n",
    "      ___|\\___|___|\n"
   ]
  },
  {
   "cell_type": "code",
   "execution_count": 35,
   "metadata": {
    "collapsed": true
   },
   "outputs": [],
   "source": [
    "from pymongo import MongoClient\n",
    "from datetime import datetime\n",
    "import json"
   ]
  },
  {
   "cell_type": "markdown",
   "metadata": {},
   "source": [
    "You have to change this variable each time the EC2 server stops or restarts. Please email/text me to get the new IP address."
   ]
  },
  {
   "cell_type": "code",
   "execution_count": null,
   "metadata": {
    "collapsed": false
   },
   "outputs": [],
   "source": [
    "ip = '54.210.15.250'"
   ]
  },
  {
   "cell_type": "markdown",
   "metadata": {},
   "source": [
    "Create the connection to the MongoDB server. The first argument is the IP we've supplied above and the second is the port (TCP) through which we'll be talking to the EC2 server and the MongoDB instance running inside it."
   ]
  },
  {
   "cell_type": "code",
   "execution_count": 10,
   "metadata": {
    "collapsed": false
   },
   "outputs": [],
   "source": [
    "conn = MongoClient(ip, 27017)"
   ]
  },
  {
   "cell_type": "markdown",
   "metadata": {},
   "source": [
    "Take a look at the databases available in our MongoDB instance"
   ]
  },
  {
   "cell_type": "code",
   "execution_count": 12,
   "metadata": {
    "collapsed": false
   },
   "outputs": [
    {
     "data": {
      "text/plain": [
       "[u'local', u'cleaned_data']"
      ]
     },
     "execution_count": 12,
     "metadata": {},
     "output_type": "execute_result"
    }
   ],
   "source": [
    "conn.database_names()"
   ]
  },
  {
   "cell_type": "code",
   "execution_count": 13,
   "metadata": {
    "collapsed": false
   },
   "outputs": [],
   "source": [
    "db = conn.get_database('cleaned_data')"
   ]
  },
  {
   "cell_type": "markdown",
   "metadata": {},
   "source": [
    "Print the collection names"
   ]
  },
  {
   "cell_type": "code",
   "execution_count": 14,
   "metadata": {
    "collapsed": false
   },
   "outputs": [
    {
     "data": {
      "text/plain": [
       "[u'academic_biz', u'academic_reviews', u'dc_reviews', u'system.indexes']"
      ]
     },
     "execution_count": 14,
     "metadata": {},
     "output_type": "execute_result"
    }
   ],
   "source": [
    "db.collection_names()"
   ]
  },
  {
   "cell_type": "markdown",
   "metadata": {},
   "source": [
    "Let's grab a a subset reviews from the academic reviews collection. Suppose we want a random set of 5000, all from after 2010, from each city in our dataset."
   ]
  },
  {
   "cell_type": "code",
   "execution_count": 15,
   "metadata": {
    "collapsed": false
   },
   "outputs": [],
   "source": [
    "collection = db.get_collection('academic_reviews')"
   ]
  },
  {
   "cell_type": "code",
   "execution_count": 16,
   "metadata": {
    "collapsed": true
   },
   "outputs": [],
   "source": [
    "#I cheated and just had a list of all the states. \n",
    "#You should try to find a unique list of all the states from mongoDB as an exercise.\n",
    "states = [u'OH', u'NC', u'WI', u'IL', u'AZ', u'NV']"
   ]
  },
  {
   "cell_type": "markdown",
   "metadata": {},
   "source": [
    "First, I'm going to take a look at what one of the reviews looks like. I totally could have done something wrong earlier and the output is pure garbage. This is a good sanity check to make."
   ]
  },
  {
   "cell_type": "code",
   "execution_count": 17,
   "metadata": {
    "collapsed": false
   },
   "outputs": [
    {
     "data": {
      "text/plain": [
       "{u'_id': ObjectId('58e2e9d4decef619d1cfdff0'),\n",
       " u'business_id': u'4P-vTvE6cncJyUyLh73pxw',\n",
       " u'cool': 0,\n",
       " u'date': u'2014-08-14',\n",
       " u'funny': 0,\n",
       " u'review_id': u'tRd0-mPa9O1TMJp_dw5khQ',\n",
       " u'stars': 4,\n",
       " u'state': u'OH',\n",
       " u'text': u'Got my mojo back after having a few of their appetite teasers. Love LPW for a no-frills bite to eat.',\n",
       " u'type': u'review',\n",
       " u'useful': 0,\n",
       " u'user_id': u'kXUySHSlRgVrcR4Aa0HtGQ'}"
      ]
     },
     "execution_count": 17,
     "metadata": {},
     "output_type": "execute_result"
    }
   ],
   "source": [
    "collection.find()[0]"
   ]
  },
  {
   "cell_type": "markdown",
   "metadata": {},
   "source": [
    "Sweet, this is pretty much what we were expecting. Let's pull out the date field from this entry. We're going to filter on this in a second. Depending on its type, we're going to need to develop different strategies in constructing the logical statements that filter for the date."
   ]
  },
  {
   "cell_type": "code",
   "execution_count": 18,
   "metadata": {
    "collapsed": false
   },
   "outputs": [
    {
     "name": "stdout",
     "output_type": "stream",
     "text": [
      "2014-08-14\n",
      "<type 'unicode'>\n"
     ]
    }
   ],
   "source": [
    "print collection.find()[0]['date']\n",
    "print type(collection.find()[0]['date'])"
   ]
  },
  {
   "cell_type": "markdown",
   "metadata": {},
   "source": [
    "Dang it's unicode. Unicode is a pain in the ass to deal with, it's some Python specific format. Let's try converting it to a more usable Python format (datetime). We care about the *relative* difference between the date variable. Doing this with a string doesn't make sense to a computer so we have to transform it into a quantitative measure of time."
   ]
  },
  {
   "cell_type": "code",
   "execution_count": 19,
   "metadata": {
    "collapsed": false
   },
   "outputs": [
    {
     "data": {
      "text/plain": [
       "datetime.datetime(2014, 1, 1, 0, 0)"
      ]
     },
     "execution_count": 19,
     "metadata": {},
     "output_type": "execute_result"
    }
   ],
   "source": [
    "string_year = collection.find()[0]['date'][0:4]\n",
    "year = datetime.strptime(string_year, '%Y')\n",
    "year"
   ]
  },
  {
   "cell_type": "markdown",
   "metadata": {},
   "source": [
    "Note that the datetime above is given as January-1st, 2014. We only gave it a year variable so it just defaults to the first day of that year. That's all good though, we just want stuff after 2010, we just define the beginning of 2010 to be January-1st 2010."
   ]
  },
  {
   "cell_type": "code",
   "execution_count": 20,
   "metadata": {
    "collapsed": false
   },
   "outputs": [],
   "source": [
    "threshold_year = datetime.strptime('2010', '%Y')"
   ]
  },
  {
   "cell_type": "markdown",
   "metadata": {},
   "source": [
    "Running the below code is going to take a little while. But it's essentially doing the following:\n",
    "\n",
    "        For each review in the reviews database:  \n",
    "            If the review comes from one of our states:  \n",
    "                Check to see if the review was made after 2010:  \n",
    "                  If it did, append it to the overall reviews dictionary. \n",
    "                  If it didn't, proceed to the next review."
   ]
  },
  {
   "cell_type": "code",
   "execution_count": 51,
   "metadata": {
    "collapsed": false
   },
   "outputs": [],
   "source": [
    "reviews_dict = {}\n",
    "num_reviews = 50000\n",
    "\n",
    "for obj in collection.find():\n",
    "    if obj['state'] in states:\n",
    "        try:\n",
    "            if len(reviews_dict[obj['state']]) > num_reviews:\n",
    "                continue\n",
    "        except KeyError:\n",
    "            pass\n",
    "        if datetime.strptime(obj['date'][0:4], '%Y') >= threshold_year:\n",
    "            del obj['_id']\n",
    "            try:\n",
    "                reviews_dict[obj['state']].append(obj)\n",
    "            except KeyError:\n",
    "                reviews_dict[obj['state']]=[obj]\n",
    "                "
   ]
  },
  {
   "cell_type": "markdown",
   "metadata": {},
   "source": [
    "So the new dictionary we created is structured with each state being a key and each entry being a list of reviews. Let's take a look at what Ohio looks like:"
   ]
  },
  {
   "cell_type": "code",
   "execution_count": 31,
   "metadata": {
    "collapsed": false,
    "scrolled": true
   },
   "outputs": [
    {
     "data": {
      "text/plain": [
       "[{u'_id': ObjectId('58e2e9d4decef619d1cfe0eb'),\n",
       "  u'business_id': u'1DedueD53YsKcpqMWPIe9w',\n",
       "  u'cool': 0,\n",
       "  u'date': u'2013-12-30',\n",
       "  u'funny': 0,\n",
       "  u'review_id': u'3xGR24wD5ILntyX2UXZWTA',\n",
       "  u'stars': 3,\n",
       "  u'state': u'IL',\n",
       "  u'text': u\"We were passing town through and stopped based on the Yelp reviews. Mediocre suburban tex mex; not authentic Mexican which we prefer. Chips and salsa nothing special. Others in my group ordered burritos, which were ok. I ordered the Mexican salad and asked the waitress to add steak. It came as a nice mix of greens, covered in warm, melted Kraft cheddar cheese, no steak. The waitress that brought our food was different from the one who took our order, so seemed confused when I pointed out the steak was missing. However, she came back promptly with a big plate of steak to add to my salad and said it was ok, because my server had it down right but the kitchen missed it. The way she said it made me wonder what would have happened if the waitress had gotten it wrong . . .  Anyway, nothing terrible but I'd probably stop somewhere else next time.\",\n",
       "  u'type': u'review',\n",
       "  u'useful': 0,\n",
       "  u'user_id': u'OkZk0I2S6mcMOtjSP12U_A'},\n",
       " {u'_id': ObjectId('58e2e9d4decef619d1cfe0ec'),\n",
       "  u'business_id': u'1DedueD53YsKcpqMWPIe9w',\n",
       "  u'cool': 0,\n",
       "  u'date': u'2013-12-02',\n",
       "  u'funny': 0,\n",
       "  u'review_id': u'2_BvxFBvtyMKjNf3gzmbqw',\n",
       "  u'stars': 4,\n",
       "  u'state': u'IL',\n",
       "  u'text': u\"The blackened chicken quesadilla is amazing!! While the green salsa was a click too spicy for me, the flavor was unreal! I didn't have the margarita, but my sister did and said the taste was great! (It was small, so order a large if you want more) \\nI'm a big guacamole fan and this one again was great. Still too spicy for me, but if you can handle a little heat-you should love it. (BTW, I can barely handle any heat at all, so it's probably normal for most people ;)\\nI say, grab some friends and try it out!\",\n",
       "  u'type': u'review',\n",
       "  u'useful': 0,\n",
       "  u'user_id': u'8f9m9EdA6M5Jr-sqdPrc5A'},\n",
       " {u'_id': ObjectId('58e2e9d4decef619d1cfe0ee'),\n",
       "  u'business_id': u'1DedueD53YsKcpqMWPIe9w',\n",
       "  u'cool': 0,\n",
       "  u'date': u'2014-09-19',\n",
       "  u'funny': 0,\n",
       "  u'review_id': u'HBcuWFsU-6VrvzYZUDZQzA',\n",
       "  u'stars': 5,\n",
       "  u'state': u'IL',\n",
       "  u'text': u'This place is great!! First time dining here but I will definitely be back. We ordered the guac, chicken/fish/shrimp tacos, and a chicken crisp and everything was great! The shrimp tacos were a little spicy, but good. The chicken was my fav! Had a tasty drink too...a blackberry/basil margarita. Highly recommend this restaurant.',\n",
       "  u'type': u'review',\n",
       "  u'useful': 0,\n",
       "  u'user_id': u'XLwW5c_194tekHBy6ee7eg'},\n",
       " {u'_id': ObjectId('58e2e9d4decef619d1cfe0ef'),\n",
       "  u'business_id': u'1DedueD53YsKcpqMWPIe9w',\n",
       "  u'cool': 0,\n",
       "  u'date': u'2014-04-20',\n",
       "  u'funny': 0,\n",
       "  u'review_id': u'V926hjwKcbT-ZVJOwSeXnQ',\n",
       "  u'stars': 2,\n",
       "  u'state': u'IL',\n",
       "  u'text': u\"Update:  Allegedly this place is closed.  Obviously they did nothing to improve my on my previous review.  The owners of this place own several places in town, some great and some ok, so they obviously could care less what I had to say.  It is about the food!  If you make great food then people will come.\\n\\nI am a sucker for trying every new place around, despite the countless bad reviews I read.  Cabo''s was the latest of the new places I've tried.  Was the food horrible?  No, the food was not horrible.  Was the restaurant dirty?  No, the restaurant was actually very clean and nicely decorated..  Was the service bad?  No, the service was ok.  \\n\\nIf nothing was horrible then why the two stars?  There are countless Mexican establishments in Champaign/Urbana and I've eaten at every one of them.  I would go eat at any of the good ones before going back here. The menu didn't contain 200 items like many of the other establishments, which I found kind of refreshing.  However, the prices were crazy high for Mexican food.  They charge $13.00 for a Fajita and $3.00 more if you want meat such as chicken or steak on it.  That is $16 for a Fajita that would be $9-$12 everywhere else.  \\n\\nThe food was not horrible, but it was bland.  The fajitas lacked flavor.  I had to salt and pepper it to make it taste like something.  When have you ever had to add salt and pepper to a Mexican dish after it has been served?  If the answer is more than zero then you've likely eaten at Cabo's or another bad Mexican restaurant. \\n\\nThe service consisted of countless college aged students of European decent.  I scanned the staff and didn't see one person that appeared to come from a Mexican background.   This is usually a worrisome sign for me at any ethnic restaurant, particularly at a Mexican restaurant.  This place could be Mexican-American owned and operated, but I doubt it.  The employees I encountered were pleasant, but the experience was nothing special.  Before you bash me as some white hating individual I must disclose that I'm white.  I also believe that my fellow fair skinned man can cook good ethnic food, but rarely is it ever as good as a person from that particular ethnic background (in this case Mexican). \\n\\nWith all the other Mexican establishments in town why would I eat here again?  I won't, I'll take my business and money elsewhere where I can get a better meal for less.  If you must try it then go ahead as it won't be a horrible experience, but don't say that you weren't warned.\",\n",
       "  u'type': u'review',\n",
       "  u'useful': 2,\n",
       "  u'user_id': u'oJl-C8UECsibhHS2dB8yzQ'},\n",
       " {u'_id': ObjectId('58e2e9d4decef619d1cfe0f0'),\n",
       "  u'business_id': u'1DedueD53YsKcpqMWPIe9w',\n",
       "  u'cool': 0,\n",
       "  u'date': u'2013-12-28',\n",
       "  u'funny': 0,\n",
       "  u'review_id': u'ZLJmCiZ2W68cn0hgautPCw',\n",
       "  u'stars': 5,\n",
       "  u'state': u'IL',\n",
       "  u'text': u\"I've only had breakfast here and both times our food was outstanding. The eggs were cooked perfectly and the fresh fruit was excellent. The prices are reasonable and a great value IMHO.  The service was great too -- very friendly staff.\",\n",
       "  u'type': u'review',\n",
       "  u'useful': 0,\n",
       "  u'user_id': u'lsabqVi48xglkCa2HaqAdA'},\n",
       " {u'_id': ObjectId('58e2e9d4decef619d1cfe0f1'),\n",
       "  u'business_id': u'1DedueD53YsKcpqMWPIe9w',\n",
       "  u'cool': 0,\n",
       "  u'date': u'2014-01-28',\n",
       "  u'funny': 0,\n",
       "  u'review_id': u'tHKS8zpaJ2PU0RFqgsa1Hg',\n",
       "  u'stars': 5,\n",
       "  u'state': u'IL',\n",
       "  u'text': u\"How does this restaurant only have 3 1/2 stars?? I've been here twice and the food was excellent both times. The steak enchiladas are fantastic, with high quality meat and fresh sauce. The service is good, with friendly and attentive staff. I'm really glad there's a Mexican restaurant out this way and ecstatic that it's this good.\",\n",
       "  u'type': u'review',\n",
       "  u'useful': 1,\n",
       "  u'user_id': u'2Ql0lEXOBBcCd9vvPlC67A'},\n",
       " {u'_id': ObjectId('58e2e9d4decef619d1cfe0f2'),\n",
       "  u'business_id': u'1DedueD53YsKcpqMWPIe9w',\n",
       "  u'cool': 0,\n",
       "  u'date': u'2014-06-19',\n",
       "  u'funny': 0,\n",
       "  u'review_id': u'D41x80cel8xzkWGeHKpCkA',\n",
       "  u'stars': 3,\n",
       "  u'state': u'IL',\n",
       "  u'text': u\"Guacamole was dry, we even mixed in salsa but didn't help. Most of the time you find yourself eating your grac, fat b/c it is good...We surrendered and sent it back...sad, this is off to a bad start.  Ok, wow the chips are out of a box...and nasty....Oh no....\",\n",
       "  u'type': u'review',\n",
       "  u'useful': 0,\n",
       "  u'user_id': u'l_uh-MwztthPaGCHY-eQBg'},\n",
       " {u'_id': ObjectId('58e2e9d4decef619d1cfe0f3'),\n",
       "  u'business_id': u'1DedueD53YsKcpqMWPIe9w',\n",
       "  u'cool': 0,\n",
       "  u'date': u'2014-01-05',\n",
       "  u'funny': 0,\n",
       "  u'review_id': u'DdejAQTqbNgzYQ7Vzx95sA',\n",
       "  u'stars': 1,\n",
       "  u'state': u'IL',\n",
       "  u'text': u\"Really wanted to like this place, as it's convenient to our home, and I love good Mexican food.\\n\\nSalsa seemed canned, not very flavorful.  Chips thick, obviously brought it.\\n\\nMy husband had the mixed fajitas- amazingly, hardly any flavor.  It came with no more than a teaspoon of guacamole and pico de gallo.  \\n\\nI had the stuffed poblano.  Nothing special.  Just mashed potatoes in a roasted poblano.\\n\\nService was okay, but food was sub-par at best.  We didn't take the leftovers home, and will not be back.\",\n",
       "  u'type': u'review',\n",
       "  u'useful': 0,\n",
       "  u'user_id': u'Khd3IuzGe5cd1oKiOF_QjA'},\n",
       " {u'_id': ObjectId('58e2e9d4decef619d1cfe0f4'),\n",
       "  u'business_id': u'1DedueD53YsKcpqMWPIe9w',\n",
       "  u'cool': 0,\n",
       "  u'date': u'2014-01-22',\n",
       "  u'funny': 0,\n",
       "  u'review_id': u'NHq8lBiaBx2tALucrxpW6w',\n",
       "  u'stars': 4,\n",
       "  u'state': u'IL',\n",
       "  u'text': u\"Muy bien! In a town with more Mexican restaurants per capita than Tijuana, Cabo's certainly stands out above the rest. The decor is way better than El Toro or Dos Reales and I don't get the feeling that I might get salmonella at all. \\n\\nDos XX Ambar on draft\\nBad Ass Pork Tacos\\nChicken Enchiladas\\nDelicious rice with corn in it\\n\\nIt loses one star for just ok service. Some confusion with the wait staff and kitchen. Other than that the experience was excellent. Way to go Cabo's!\",\n",
       "  u'type': u'review',\n",
       "  u'useful': 3,\n",
       "  u'user_id': u'hNXLWWG5by_3FCmYJsXQMg'},\n",
       " {u'_id': ObjectId('58e2e9d4decef619d1cfe0f5'),\n",
       "  u'business_id': u'1DedueD53YsKcpqMWPIe9w',\n",
       "  u'cool': 0,\n",
       "  u'date': u'2014-01-22',\n",
       "  u'funny': 0,\n",
       "  u'review_id': u'WemhFLLKIBb0_QlEBNu34g',\n",
       "  u'stars': 4,\n",
       "  u'state': u'IL',\n",
       "  u'text': u\"I second Brian A.'s review. Good vibe, good food, ok service. Quesadillas are not enchiladas. When I did get my enchiladas they were admittedly a little Tex-Mex, but still topped enchiladas from other Mexican restaurants in the area. Earlier reviews state that the beans seem to come from a can...disagree. It's called substance. Overall, great experience and will definitely be trying again to confirm!\",\n",
       "  u'type': u'review',\n",
       "  u'useful': 0,\n",
       "  u'user_id': u'LNF5pDUmzTAeorTyuvzqRQ'},\n",
       " {u'_id': ObjectId('58e2e9d4decef619d1cfe0f6'),\n",
       "  u'business_id': u'1DedueD53YsKcpqMWPIe9w',\n",
       "  u'cool': 1,\n",
       "  u'date': u'2013-11-22',\n",
       "  u'funny': 0,\n",
       "  u'review_id': u'fPjszzArAWPksVLTQnVzCA',\n",
       "  u'stars': 5,\n",
       "  u'state': u'IL',\n",
       "  u'text': u'*** UPDATE 10/1/2014: Sadly, Cabo\\'s Cantina is now closed.  It was great while it lasted.***\\n\\nWe stopped in for an early dinner. We left filled and satisfied.  The food was very good and we will definitely be back. We had cheese curds as an appetizer. They were tasty, but they are breaded and then deep fried and served with a sauce. The sauce was a wonderful tomato-jalapeno-fruit sauce (can\\'t fully identify the fruit), and it may have some roasted red pepper.  Truly good sauce.  The curds themselves were unexceptional. Too much breading, but that seems common in this part of the country.  (We prefer curds warm and \"naked\" with a spice \"rub\" rather than a sauce. But I\\'m not complaining. They were good.)\\n\\nThe main courses likewise were really good. The pork tacos had ample seasoned pork, cilantro, onions, and (oddly) sour cream. But the mix of flavors was very good, and I added the green salsa (that came with the chips) to mine.  The squash tacos were a real surprise, especially at a restaurant like this. They were spicy and perfectly done. Both taco dishes came three to a plate on soft corn tortillas.  The crisp was billed as a Mexican pizza-- a flour tortilla filled with cheese and toppings. Not quite a tostada, so Mexican pizza is probably as good a description as any.  It was piled high and easily shared. And, most important, it was delicious.\\n\\nThe chips and salsa were good. The salsa, in fact, was very good. Especially the hot salsa. It was a tomatillo salsa but with lots of peppers but still not really hot.  The red salsa was billed as mild, and it was. None in our party found it exceptional.  The chips were warm and very salty. I couldn\\'t tell for certain, but I don\\'t believe they are made on the premises.  \\n\\nThe menu is relatively large and broad, ranging from tilapia to steak to tacos and burritos. And there are many choices in each category. Carnivores and vegetarians both will find things on the menu, though vegan vegetarians may not find much.  It isn\\'t really Mexican; if you are looking for authentic Mexican you should go to Maize or El Charro. The food here is Mexican Inspired. I\\'m not knocking it. It is delicious. The steaks and seafood with Mexican spices were amazing, and they have a greater variety of tacos than do the more authentic places. The chefs may have worked in a steakhouse as they really know how to cook the steaks.  And the spices and sauces add to the flavors rather than smothering or overwhelming the meats or vegetables. \\n\\nThe place has one other feature that many of our Mexican style restaurants lack: a lovely decor. Although says Cantina and Grill on the sign, this is a sit-down restaurant if you want it to be.  On the side away from the bar it has normal tables, while the bar area has service at the bar and at those \"tall tables\" that require high chairs to sit at.  The decor is simple but very nice, the music was quite low and we could easily talk over it.  There are several TVs and I suspect it serves as a nice sports bar on game days.  \\n\\nThe wait staff was wonderful. They would explain any dish you might have questions about, and they make recommendations if you give them guidelines about what you are looking for in a meal.  Very professional and amazing given that they\\'ve only been open for a week.  \\n\\nParking is ample and we were seated immediately. The waitress took our drink order less than five minutes after we were seated, and the drinks arrived promptly, as did the chips and salsa, and both were refilled quickly and without our needing to ask.\\n\\nAll in all, I think this place is off to a great start in Champaign! I suspect it will become one of our regular stops.',\n",
       "  u'type': u'review',\n",
       "  u'useful': 4,\n",
       "  u'user_id': u'tQBrhzi7ixctWgthHHSHgQ'},\n",
       " {u'_id': ObjectId('58e2e9d4decef619d1cfe0f7'),\n",
       "  u'business_id': u'1DedueD53YsKcpqMWPIe9w',\n",
       "  u'cool': 0,\n",
       "  u'date': u'2013-12-13',\n",
       "  u'funny': 1,\n",
       "  u'review_id': u'fnO18xosHxN5E8tKtI3AGA',\n",
       "  u'stars': 5,\n",
       "  u'state': u'IL',\n",
       "  u'text': u\"I needed a place for an office lunch of about 20 people and decided upon Cabo's. John, the general manager, was professional and very friendly upon my initial inquiry and throughout the meal. My group ate in the small area to the right just inside the main door.\\n\\nThe service? It could not have been better. Angela and Joy spoke with me prior to the arrival of the other guests to make sure that everything was set up properly and to make sure that the guests would get the best possible service. They did a great job of getting drinks and food orders, offering suggestions, and generally having fun with the diners. Chips and drinks were refilled quickly and all the service was with a smile.\\n\\nEveryone enjoyed their meal. We ordered quite an array of entrees from tacos to fajitas. My meal, the stuffed poblano pepper, was excellent. Angela suggested adding spicy pork to it, but I was determined to have a meat-free meal today. The next time I will definitely try her suggestion. I thought the queso we ordered for our chips was outstanding. People gobbled up the fresh guacamole, which I personally thought needed just a bit more heat. The other suggestion one person made was that his meal also could have used a bit more heat. Needless to say, everyone left quite full and satisfied.\\n\\nAfter lunch, a few of us relaxed at the bar, making for a great ending to a wonderful experience. Great food, great service and reasonable prices: quite a combination for a Mexican restaurant on the southwest side of Champaign. I have a feeling that several of my group will be returning very soon.\",\n",
       "  u'type': u'review',\n",
       "  u'useful': 6,\n",
       "  u'user_id': u'qJfW5-Z890LfBV62xDqzUQ'},\n",
       " {u'_id': ObjectId('58e2e9d4decef619d1cfe0f8'),\n",
       "  u'business_id': u'1DedueD53YsKcpqMWPIe9w',\n",
       "  u'cool': 0,\n",
       "  u'date': u'2013-11-20',\n",
       "  u'funny': 0,\n",
       "  u'review_id': u'zbo_tBiM2FP3YtW7NlcAsg',\n",
       "  u'stars': 5,\n",
       "  u'state': u'IL',\n",
       "  u'text': u'What a lunch!! I cannot wait to come back here for dinner, this time with my husband. When I took my first bite of the pork taco, there were so many flavors bursting in my mouth! It was spicy and juicy! Pork was cooked so perfectly! My mouth was definitely in heaven. Next, I had the most amazing spinach salad. There was a mild curry flavor and the tangerines and onions made it so crisp and fresh! That has been the best salad I have ever had. But I have to say, that the winner of it all for me at least is the sauce that came with the cheese curds. I am calling it the \"Magic Sauce\". I hope the owners would start bottling that sauce and having it for sale. I would definitely stock my pantry up with it. \\nWhat I liked most is the variety they had. I even had a fabulous burger that was mildly spiced and had a cumin type flavor to it. Unfortunately for me, it was lunch time and since I had to go back to work, I did not have a cocktail. Looking forward to going there again soon with my husband and getting some cocktails as well. I hope this place never goes out of business. Great location too!',\n",
       "  u'type': u'review',\n",
       "  u'useful': 1,\n",
       "  u'user_id': u'nelsvrxo-aGrumfxOYPvew'},\n",
       " {u'_id': ObjectId('58e2e9d4decef619d1cfe0f9'),\n",
       "  u'business_id': u'1DedueD53YsKcpqMWPIe9w',\n",
       "  u'cool': 0,\n",
       "  u'date': u'2014-01-12',\n",
       "  u'funny': 0,\n",
       "  u'review_id': u'dxHBFKzvQ7V7gg3CA8z-Tw',\n",
       "  u'stars': 4,\n",
       "  u'state': u'IL',\n",
       "  u'text': u\"I went to Cabo's the first time for dinner because Billy Barooz (same owner,same strip mall) was on a wait list. It was marginal, but had only been open a short time.  We had tamales, stuffed chili, a burger and pork tacos.  Tamales were all dough with a bland salsa verde.  The tacos are described as spicy, and they were - way hot cayenne.  Service was OK, rushed, but everything got there.  The second trip was way better, service was friendly, and relaxed.  They were not as crowded.  We had burgers, and steak tacos.  I had the Black Jack burger with fried jalapeno, cheese, and two beef patties.  It stood about four inches tall and had a great beef flavor.   A side order of cheese curds was way overcooked though.  This place will continue to get better as the staff settles in, and the kitchen gets sorted out.\",\n",
       "  u'type': u'review',\n",
       "  u'useful': 0,\n",
       "  u'user_id': u'kiTFzV797Y1eZsRQUOEkeA'},\n",
       " {u'_id': ObjectId('58e2e9d4decef619d1cfe0fa'),\n",
       "  u'business_id': u'1DedueD53YsKcpqMWPIe9w',\n",
       "  u'cool': 0,\n",
       "  u'date': u'2013-12-31',\n",
       "  u'funny': 0,\n",
       "  u'review_id': u'-0_8QpYygxUAs696NXdZCA',\n",
       "  u'stars': 1,\n",
       "  u'state': u'IL',\n",
       "  u'text': u'First let me say that I love Mexican food and really wanted to like this place since it is very close to my office.  I went there for lunch with some co-workers.  The man who seated us seemed to be annoyed that we came in.  The bartender has to come wait on us because the rest of the staff just stood around talking.  Overall the service wasn\\'t that great.  We were then brought two kinds of salsa that we were told were made \"in house so they are extra yummy.\"  The salsa had no flavor.  Was very unimpressed and disappointed.\\n\\nThey have no lunch menu.  Everything is one price/one size.  This was disappointing.\\n\\nI ordered the chicken burrito.  My co-worker had ordered the spicy pork burrito, and the third person decided not to eat because she was so put off by the who situation.\\n\\nThe burrito came out and looked good, but boy was I wrong.  They use black beans, which tasted like they were from a can and not washed off.  They tasted like they had been sitting in some sort of brine solution.  There was rice, which had no flavor either.  The rice they serve seemed a bit over cooked, had corn in it, and was very bland.  Basically they take a couple tortillas, spread some cheese on it, then rice, beans lettuce and the chicken.  They then \"grill\" it.  The lettuce was wilted and soggy.  Gross.  I cut the whole thing in half to eat the chicken.  It was the best part, but that\\'s not saying much.  The chicken was salty...VERY SALTY.  I took the rest home thinking that I might be able to salvage it or give a bit to my dog, but it smelled so incredibly bad that I just threw the whole thing out at home.  Don\\'t waste your time or money.\\n\\nI prefer to support locally owned business, especially restaurants since I worked in the industry for a long time, but this was just overall a very bad experience.',\n",
       "  u'type': u'review',\n",
       "  u'useful': 1,\n",
       "  u'user_id': u'MTsuAZdma0LzPa4dB50RnA'},\n",
       " {u'_id': ObjectId('58e2e9d4decef619d1cfe0fb'),\n",
       "  u'business_id': u'1DedueD53YsKcpqMWPIe9w',\n",
       "  u'cool': 0,\n",
       "  u'date': u'2014-02-16',\n",
       "  u'funny': 0,\n",
       "  u'review_id': u'f-PZnzigTat6uI2PSyx2rw',\n",
       "  u'stars': 2,\n",
       "  u'state': u'IL',\n",
       "  u'text': u\"My girlfriend and I came in around 5 PM on a Saturday. Wasn't too busy and we were quickly seated. The waitress brought us chips and salsa. She was very prompt and helpful. Throughout our visit she was very quick to refill our drinks.\\n\\nAfter quickly looking over the menu we both decided on getting the chimichanga. (My personal favorite) It seemed like the food took a bit longer than we were expecting but not too bad.\\n\\nOnce our order arrived, it looked delicious. However, that was not the case. As others have mentioned, the black beans have an off taste. The rice is pretty bland and underwhelming. Both the rice and beans were cold. The chimichanga is filled mostly with rice and beans which didn't help. Unfortunately, the entire meal was just rather mediocre.\\n\\nAlthough the food wasn't the greatest, you do get large portions. My girlfriend and I decided if we tried coming again, we might just split an entree. She said she would give the restaurant 3 out of 5.\\n\\nHonestly, I couldn't recommend going here. The food just wasn't that good. Hopefully, they can improve and perhaps we can try it again.\",\n",
       "  u'type': u'review',\n",
       "  u'useful': 1,\n",
       "  u'user_id': u'RH3i2lapB-GVLbpNzQt9Rw'},\n",
       " {u'_id': ObjectId('58e2e9d4decef619d1cfe0fc'),\n",
       "  u'business_id': u'1DedueD53YsKcpqMWPIe9w',\n",
       "  u'cool': 0,\n",
       "  u'date': u'2014-01-20',\n",
       "  u'funny': 0,\n",
       "  u'review_id': u'LVMdHcurRep_3F0yO6jv3A',\n",
       "  u'stars': 5,\n",
       "  u'state': u'IL',\n",
       "  u'text': u'Champaign is full of middling but not terrible places for Mexican food. You get your food in seconds, but it\\'s pretty much just the same ingredients shuffled around in different combinations, and each component is not all that great. Not BAD, but not great. I think this is the first truly great place for Mexican I\\'ve eaten at in Champaign, which is why I\\'m throwing caution to the wind and actually giving it a full five stars.\\n\\nI just started going a few weeks ago, and I\\'ve been there three times since. I\\'ve always found the wait staff to be really pleasant. They do get pretty busy during dinner, but I\\'ve never had a terrible wait and usually get seated right away. It might help that I tend to eat dinner a little earlier, if possible.\\n\\nYou get chips and salsa, of course, to start at no charge. Their chips were fresh and light and warm. Nothing is a bad sign like bad tortilla chips at a Mexican restaurant. I have tried the guacamole and the queso. Of the two, I preferred the queso as an add-on dip for the Nachos. The guacamole was okay, but it could have used more lime, and I prefer my guac a bit chunkier.\\n\\nPossibly the best thing on their menu are their crisps, which are like little mini-pizzas on a tortilla-based \"crust.\" The crust of them is perfect. Delicate and flaky and crispy, which you\\'d hope based on the name. I\\'ve had bites of two different crisps-the pork and the red pepper varieties. I preferred the pork overall, but both were full of flavor. Their cheese and sauces seem of a very good quality and are very flavorful.\\n\\nI\\'ve also tried their pork tacos. The tortillas uses for their tacos (white corn, I believe) are great. Soft, with a little bit of texture and tooth to them. I did think their pork could used a tad more heat, but other than that they made a good lunch portion with the chips.\\n\\nDesert-wise, you must try their fried ice-cream! It\\'s the best I\\'ve ever had. It seems like a hard thing to mess up too badly, but plenty of Mexican places that bother to offer it, do. It has a sweet, flaky crust and delicious chocolate drizzle. It might be nice if you got two coated, smaller scoops of ice cream instead of one larger one, just to balance out the crust and ice cream proportions a bit better. Still, it\\'s delicious.\\n\\nAs far as drinks go, I have had two of their Margaritas. The first was a Blackberry and Basic concoction, and was my favorite of the two. I didn\\'t get a ton of basil from it, but there was enough there to make it interesting. The other was a pineapple and coconut Margarita. This had a great taste, though I didn\\'t get much coconut from it other than the toasted coconut on the rim of the glass. Neither skimped on the alcohol.',\n",
       "  u'type': u'review',\n",
       "  u'useful': 3,\n",
       "  u'user_id': u'gF37cxBOnIi3ZoC6FKmu-Q'},\n",
       " {u'_id': ObjectId('58e2e9d4decef619d1cfe0fd'),\n",
       "  u'business_id': u'1DedueD53YsKcpqMWPIe9w',\n",
       "  u'cool': 0,\n",
       "  u'date': u'2014-06-12',\n",
       "  u'funny': 0,\n",
       "  u'review_id': u'qZwPe5Ybc_7wVF61_-UwRQ',\n",
       "  u'stars': 4,\n",
       "  u'state': u'IL',\n",
       "  u'text': u'Great dining experience with the food and service. The margaritas are tasty and the veggie burrito, in particular, is fantastic.',\n",
       "  u'type': u'review',\n",
       "  u'useful': 0,\n",
       "  u'user_id': u'u_hqmXPmzaM5QOWTQUOVhQ'},\n",
       " {u'_id': ObjectId('58e2e9d4decef619d1cfe0fe'),\n",
       "  u'business_id': u'1DedueD53YsKcpqMWPIe9w',\n",
       "  u'cool': 0,\n",
       "  u'date': u'2013-12-15',\n",
       "  u'funny': 0,\n",
       "  u'review_id': u'63KRAtd8rTlx-rmOLds50w',\n",
       "  u'stars': 1,\n",
       "  u'state': u'IL',\n",
       "  u'text': u\"So let me first say that I REALLY REALLY wanted to like the place-- especially after so many positive reviews. \\n\\nFood: HOLF SH*T SALTY. I mean SALTY. Like hey, want some food as a side to your jug of morton's salt with that? Now, I am not one of those people on a low sodium diet, where you body goes into shock consuming salt. I consider myself having a pretty normal diet. The guacamole was salty. Black beans couldn't even taste beans because it was sooo salty. Rice was mushy and had no flavor at all. I tried my husband's chicken burrito, and it was salt with chicken essence. We wouldn't even bag it up for our dogs to eat. I had the cheese enchiladas. HORRIBLE. It was like a really bad quesadilla with some red sauce on it. No use of Mexican cheeses-- just really shitty kraft cheese that my knife wouldn't even cut through. \\n\\nService: Meh. Had to ask the bartenders for menus as no one was coming to our table. Server was new and didn't know the menu when we had a couple questions. When she saw that I only ate a bite of my food, she didn't ask if there was anything wrong or how she could fix it. Big no no. I was a server for 5 years and you just know when something isn't right with your customers. \\n\\nDrinks: Meh. I had the blackberry margarita, which tasted of only blackberry syrup. Needed to be cut with fresh lime juice. \\n\\nWe left with both of us wanting to throw up and head to the sauna to sweat out the salt. Seriously eating bad Chinese food and a bunch of sunflower seeds would still be less salt than this place. \\n\\nBasically if you like suburb quality Mexican food that uses frozen and not fresh ingredients come here.\",\n",
       "  u'type': u'review',\n",
       "  u'useful': 2,\n",
       "  u'user_id': u'4bsc9m93QmN6bMocwaMS5w'},\n",
       " {u'_id': ObjectId('58e2e9d4decef619d1cfe0ff'),\n",
       "  u'business_id': u'1DedueD53YsKcpqMWPIe9w',\n",
       "  u'cool': 0,\n",
       "  u'date': u'2013-12-16',\n",
       "  u'funny': 0,\n",
       "  u'review_id': u'7GkVAN8G4vbjbCYH9E4qHA',\n",
       "  u'stars': 1,\n",
       "  u'state': u'IL',\n",
       "  u'text': u\"I've tired to go to cabo's twice now. once when I thought they had just opened but I guess things didn't work out so they were not open? and tonight when they closed at 7 for a Christmas party. thankfully billy barooz's was open. I'm not happy about this because it is out of my way so I will probably not make the trip there again.\",\n",
       "  u'type': u'review',\n",
       "  u'useful': 0,\n",
       "  u'user_id': u'p1yTOjqH4v6_A51sEVvK3w'},\n",
       " {u'_id': ObjectId('58e2e9d4decef619d1cfe100'),\n",
       "  u'business_id': u'1DedueD53YsKcpqMWPIe9w',\n",
       "  u'cool': 0,\n",
       "  u'date': u'2014-02-26',\n",
       "  u'funny': 0,\n",
       "  u'review_id': u'OAOsY1rOLvR7hnvGvg2r9A',\n",
       "  u'stars': 4,\n",
       "  u'state': u'IL',\n",
       "  u'text': u'I went there for breakfast this morning and the food was great. I had the steak and eggs. The service and atmosphere were also good.',\n",
       "  u'type': u'review',\n",
       "  u'useful': 0,\n",
       "  u'user_id': u'59ygiX9-a8B91rb5qvtIgA'},\n",
       " {u'_id': ObjectId('58e2e9d4decef619d1cfe101'),\n",
       "  u'business_id': u'1DedueD53YsKcpqMWPIe9w',\n",
       "  u'cool': 0,\n",
       "  u'date': u'2014-01-07',\n",
       "  u'funny': 0,\n",
       "  u'review_id': u'ky_GtQE1tUHqtQHt6M4VcA',\n",
       "  u'stars': 1,\n",
       "  u'state': u'IL',\n",
       "  u'text': u\"Went here Saturday afternoon around 1:30 and the place was dead.  It took forever to be waited on.  Once we ordered then we waited what seemed like a very long time to get our food.  The food was not edible.  The black beans were chalky and cold and had a funny flavor.  They serve the Chimichanga with rice and beans on the outside and on the inside.  I ordered a chicken Chimichanga but all that was in it was rice and beans and not very good rice and beans either!  \\n\\nI ordered a classic margarita and it was good but it's about a 4 ounce glass and cost $7.  Get real!!!!\\n\\nThe inside is really nice (just like Smoke Que and Brew) but the service and the food suck!  I will not go back for a second try to this place.  I would have had anyone working there really cared about anything but they did not.  They didn't even have the Illini game on until we asked them to turn it on.\",\n",
       "  u'type': u'review',\n",
       "  u'useful': 3,\n",
       "  u'user_id': u'qmjoMFMZdLH69_6eGTGDZw'},\n",
       " {u'_id': ObjectId('58e2e9d4decef619d1cfe103'),\n",
       "  u'business_id': u'1DedueD53YsKcpqMWPIe9w',\n",
       "  u'cool': 0,\n",
       "  u'date': u'2014-01-14',\n",
       "  u'funny': 0,\n",
       "  u'review_id': u'S2M4PvJu3Qlam50pmL9clA',\n",
       "  u'stars': 5,\n",
       "  u'state': u'IL',\n",
       "  u'text': u\"I was so anxious for this place to open and when it did I was thoroughly impressed! I work and live nearby so having a place to eat good Mexican food is a must! \\n\\nThe menu is just great.  Lets talk drinks first.  I'm definitely a margarita lover so having Cabo's wide selection was awesome! Instead of regular sour mix they make fresh lime juice and organic agave nectar! How cool! The Roasted Blackberry and Basil Margarita by far is delicious. This combo goes great together.  However, my personal favorite is the Platinum Margarita. Instead of Triple sec, this one calls for a high quality and tasty ingredient called Grand Marnier--it makes the flavor so much better!\\n\\nSo food. To start off, the chips and salsa must be good at a Mexican place, and this place surely scores a 10 by me! The stuffed poblano is really what hits the spot for me, but I do love a good taco! And this is definitely the place for that!\\n\\nOverall this place is a winner for me. Everyone is so nice, food is great, and the drinks are awesome! I really can't wait for warm weather so the patio is open!\",\n",
       "  u'type': u'review',\n",
       "  u'useful': 0,\n",
       "  u'user_id': u'lbXEEgn329Ht5UDFYdPcDA'},\n",
       " {u'_id': ObjectId('58e2e9d4decef619d1cfe476'),\n",
       "  u'business_id': u'D5tiB1t8VRQOvvI-zgkq3Q',\n",
       "  u'cool': 0,\n",
       "  u'date': u'2010-07-12',\n",
       "  u'funny': 0,\n",
       "  u'review_id': u'eqKbbcPOsBSAR1gcVTgjAg',\n",
       "  u'stars': 5,\n",
       "  u'state': u'IL',\n",
       "  u'text': u\"I recently held my little sister's bridal shower at Kennedy's as it was her favorite restaurant in the Champaign-Urbana area.  Everything was perfect!  We were there for a while (opening presents etc) and both hosts were very attentive to my needs and went above and beyond to make sure I was stress free for the shower.  The food spread was beautiful, we had a perfect amount, everything tasted amazing and everyone was impressed!  As the shower was concluding, we walked out on the patio behind the restaurant and had some wine...it overlooked the golf course and was a gorgeous scene for family pictures.\\n\\nI was also recently attending a conference at the I hotel but wanted to go some place that was nice for lunch with several of my colleagues...so we headed down the road to Kennedy's.  I had the mushroom explosion soup-- hands down the best soup I've ever had.  I also had one of their fresh seasonal salads (I had one with strawberries and goat cheese).   My friend had a sandwich and the other had a salad and mushroom explosion soup as well.  Both were very impressed with the service, food quality, and the price for lunch was an AMAZING deal for the quality we received.\\n\\nI will plan on returning to Kennedy's for special occasions and anytime that I am ever in town on business.\",\n",
       "  u'type': u'review',\n",
       "  u'useful': 0,\n",
       "  u'user_id': u'dYAhuu1xauHTh-uhwnMcQw'},\n",
       " {u'_id': ObjectId('58e2e9d4decef619d1cfe477'),\n",
       "  u'business_id': u'D5tiB1t8VRQOvvI-zgkq3Q',\n",
       "  u'cool': 0,\n",
       "  u'date': u'2010-09-14',\n",
       "  u'funny': 0,\n",
       "  u'review_id': u'TWiGcSZTpe0ZztyjUmjgtw',\n",
       "  u'stars': 3,\n",
       "  u'state': u'IL',\n",
       "  u'text': u'Went for a dinner one evening. The place looked deserted. I thought for a second, are they even open today? When we walked in, we were greeted well and shown to a table. Inside, about 5 tables and the bar was occupied. Over the course of the meal, we saw few more tables fill up. But no crowds.\\n\\nThey have a decent wine selection and have a full bar. Although they seem to be out of three different types of Cognac I ordered. I finally settled for a nice Kentucky Bourbon. \\n\\nMake sure to get a good table. The views of the evening on the golf course are priceless. You would see a deer or  a rabbit on the greens in the evening. They also have patio seating. \\n\\nThe food was delicious. The prices are very reasonable. The service is excellent and the attention to the guests is commendable. \\n\\nFood we had:\\nWalleye fish \\nChicken\\n\\nBoth were absolutely delicious.\\n\\nHighly recommend.',\n",
       "  u'type': u'review',\n",
       "  u'useful': 2,\n",
       "  u'user_id': u'syuzk9vxQ-Qw0M20hFA_zw'},\n",
       " {u'_id': ObjectId('58e2e9d4decef619d1cfe478'),\n",
       "  u'business_id': u'D5tiB1t8VRQOvvI-zgkq3Q',\n",
       "  u'cool': 0,\n",
       "  u'date': u'2010-04-28',\n",
       "  u'funny': 0,\n",
       "  u'review_id': u'vnffi3AGC3zdXLrGjrvwyw',\n",
       "  u'stars': 5,\n",
       "  u'state': u'IL',\n",
       "  u'text': u\"Just left Kennedy's at Stone Creek for a great dinner with some friends.  Service was wonderful - food was very tasty - the views were beautiful and best of all it was half price wine by the glass night (every Tuesday).\\nI ordered a delicious crab cake with a wonderful caper sauce and spring greens with a berry vinaigrette.  I really enjoyed every bite.  My friend had the shrimp risotto and said it was very delicious.  Prices were extremely reasonable.  I would highly recommend Kennedy's.\",\n",
       "  u'type': u'review',\n",
       "  u'useful': 0,\n",
       "  u'user_id': u'6I5-yIOFg66pAeqP23JIlg'},\n",
       " {u'_id': ObjectId('58e2e9d4decef619d1cfe47a'),\n",
       "  u'business_id': u'D5tiB1t8VRQOvvI-zgkq3Q',\n",
       "  u'cool': 0,\n",
       "  u'date': u'2011-08-25',\n",
       "  u'funny': 0,\n",
       "  u'review_id': u'RwGkVyTPX6vpbB6kgo_vCg',\n",
       "  u'stars': 3,\n",
       "  u'state': u'IL',\n",
       "  u'text': u'I came here a number of times over many years, and it just falls short.  Nice space, but very erratic service, and a menu that rarely ever changes.  Have not been to the brunch, mainly just lunch.  Much preferred it at its old location at Sunnycrest, when there was anything of note over there.  Just too many other places around that \"get it\" much better.  Nothing I have eaten there was offensive, just uninspired.  Pass on this place.',\n",
       "  u'type': u'review',\n",
       "  u'useful': 0,\n",
       "  u'user_id': u'eZZUxt0aNMTg0di_hLBzbA'},\n",
       " {u'_id': ObjectId('58e2e9d4decef619d1cfe47b'),\n",
       "  u'business_id': u'D5tiB1t8VRQOvvI-zgkq3Q',\n",
       "  u'cool': 0,\n",
       "  u'date': u'2011-04-21',\n",
       "  u'funny': 0,\n",
       "  u'review_id': u'zpdS_UvX1A0I_dB1WDuKRg',\n",
       "  u'stars': 4,\n",
       "  u'state': u'IL',\n",
       "  u'text': u'Had the Sunday brunch and loved it.  Wish it was a bit cheaper (roughly 20 bucks) but great selection.',\n",
       "  u'type': u'review',\n",
       "  u'useful': 0,\n",
       "  u'user_id': u'J3BlCZXBQ-C4gIqh79tJCQ'},\n",
       " {u'_id': ObjectId('58e2e9d4decef619d1cfe47d'),\n",
       "  u'business_id': u'D5tiB1t8VRQOvvI-zgkq3Q',\n",
       "  u'cool': 0,\n",
       "  u'date': u'2012-02-02',\n",
       "  u'funny': 0,\n",
       "  u'review_id': u'aHHymmXBqaCN7SsAlG9tOw',\n",
       "  u'stars': 3,\n",
       "  u'state': u'IL',\n",
       "  u'text': u\"Kennedy's has closed!  With little notice, it's final day was Sunday, January 22, 2012.\",\n",
       "  u'type': u'review',\n",
       "  u'useful': 0,\n",
       "  u'user_id': u'RWtPw0dnDEXZFKIzqoCbnQ'},\n",
       " {u'_id': ObjectId('58e2e9d4decef619d1cfe47f'),\n",
       "  u'business_id': u'D5tiB1t8VRQOvvI-zgkq3Q',\n",
       "  u'cool': 0,\n",
       "  u'date': u'2010-09-05',\n",
       "  u'funny': 0,\n",
       "  u'review_id': u'5BR-cZVbZqKxPq85lHq0Uw',\n",
       "  u'stars': 1,\n",
       "  u'state': u'IL',\n",
       "  u'text': u'Great looking place with mediocre food and high prices.  The quality to price ratio is so low here that I cannot recommend it.  The staff has been snooty to me and the food is just not worthy of the reputation it seems to have among locals. Save\\nYour money and go elsewhere.',\n",
       "  u'type': u'review',\n",
       "  u'useful': 1,\n",
       "  u'user_id': u'6vYOgOaU3Wy79yxaglfq9g'},\n",
       " {u'_id': ObjectId('58e2e9d4decef619d1cfe481'),\n",
       "  u'business_id': u'D5tiB1t8VRQOvvI-zgkq3Q',\n",
       "  u'cool': 0,\n",
       "  u'date': u'2010-01-14',\n",
       "  u'funny': 0,\n",
       "  u'review_id': u'6Gw7RLc2-Me3rtw94Rn3JA',\n",
       "  u'stars': 1,\n",
       "  u'state': u'IL',\n",
       "  u'text': u\"I was taken here for my birthday. Since we had not spent any money on a real night out in a long time, it was supposed to be a special treat. It was a bad/sad waste of time, money, and calories. It really pissed me off because this place was recommended to me by somebody whose opinion in these matters I really trust (read: fat guy).\\n\\nEverything that we ordered was bad or wrong. If dressing was supposed to be on the side, it was on the top. Soup is supposed to be warm, and the items in the soup are supposed to be cooked through and tender (I think it was an apple and sweet potato soup, or maybe a butternut squash soup, either way it was shitty shitty). The entree's were similarly bad, bland, or messed up. \\n\\nI attribute all this to poor training of the staff, both the cooks and the servers. I think that both draw from the student/teenager subset of service workers and not the career waitstaff personnel that you would hope work at a restaurant of this caliber (price range). On paper the menu sounds good, but no item was as good as its potential. I wish this was a better place, as it is really close to home, but I will never return to give it a second chance.\",\n",
       "  u'type': u'review',\n",
       "  u'useful': 1,\n",
       "  u'user_id': u'GxkY7BqazkQu6I9HBDpbqQ'}]"
      ]
     },
     "execution_count": 31,
     "metadata": {},
     "output_type": "execute_result"
    }
   ],
   "source": [
    "reviews_dict['OH'][0:50]"
   ]
  },
  {
   "cell_type": "markdown",
   "metadata": {},
   "source": [
    "It's good practice to save whatever data you're using in a more permanent location if you plan on using it again. That way, we don't have to load up the EC2 server and wait for our local machines to run the above filtering process."
   ]
  },
  {
   "cell_type": "code",
   "execution_count": 54,
   "metadata": {
    "collapsed": false
   },
   "outputs": [],
   "source": [
    "with open('cleaned_reviews_states_2010.json', 'w') as outfile:\n",
    "    json.dumps(reviews_dict, outfile)"
   ]
  },
  {
   "cell_type": "markdown",
   "metadata": {},
   "source": [
    "__Congratulations!__ You just finished downloading and filtering data from MongoDB as hosted on an EC2 instance"
   ]
  }
 ],
 "metadata": {
  "anaconda-cloud": {},
  "kernelspec": {
   "display_name": "Python [default]",
   "language": "python",
   "name": "python2"
  },
  "language_info": {
   "codemirror_mode": {
    "name": "ipython",
    "version": 2
   },
   "file_extension": ".py",
   "mimetype": "text/x-python",
   "name": "python",
   "nbconvert_exporter": "python",
   "pygments_lexer": "ipython2",
   "version": "2.7.12"
  }
 },
 "nbformat": 4,
 "nbformat_minor": 1
}
