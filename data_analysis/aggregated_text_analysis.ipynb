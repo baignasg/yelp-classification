{
 "cells": [
  {
   "cell_type": "code",
   "execution_count": null,
   "metadata": {
    "collapsed": true
   },
   "outputs": [],
   "source": [
    "import re\n",
    "punctuation = ['(', ')', '?', ':', ';', ',', '.', '!', '/', '\"', \"'\"]\n",
    "ratings_words_list = [ones, twos, threes, fours, fives]\n",
    "cleaned_word_list = {}\n",
    "for rating_word_list in ratings_words_list:\n",
    "    rating_word_list = [x.split(\".\") for x in rating_word_list]\n",
    "    rating_word_list = [item for sublist in rating_word_list for item in sublist]\n",
    "    rating_word_list = [x.split(\" \") for x in rating_word_list]\n",
    "    rating_word_list = [item for sublist in rating_word_list for item in sublist]\n",
    "    rating_word_list = [x for x in rating_word_list if re.match('[a-zA-Z]', x)]\n",
    "    rating_word_list = [re.sub('\\n','', x) for x in rating_word_list]\n",
    "    rating_word_list = [x.lower() for x in rating_word_list]"
   ]
  },
  {
   "cell_type": "code",
   "execution_count": null,
   "metadata": {
    "collapsed": true
   },
   "outputs": [],
   "source": [
    "#Build a test set and a training set for reviews\n",
    "test_amount = int(0.8 * len(review_list))\n",
    "train_reviews = review_list[0:test_amount] \n",
    "train_stars = star_list[0:test_amount]\n",
    "test_reviews = review_list[test_amount:len(review_list)] \n",
    "test_stars = star_list[test_amount:len(star_list)] "
   ]
  },
  {
   "cell_type": "markdown",
   "metadata": {},
   "source": [
    "#### What we should be doing is using one dataframe, collecting the results in that dataframe and then exporting it to a .csv for later use\n",
    "#### We'd be able to make a quick visualization for each rating system: (accurate rating, predicted rating), one hundred percent accuracy is the 45 degree line, any deviation outside of that will be incorrect"
   ]
  },
  {
   "cell_type": "code",
   "execution_count": null,
   "metadata": {
    "collapsed": true
   },
   "outputs": [],
   "source": [
    "##Use the Harvard-IV negative Dictionary\n",
    "vectorizer = CountVectorizer(analyzer = \"word\",   \\\n",
    "                             tokenizer = None,    \\\n",
    "                             vocabulary = cleaned_words, \\\n",
    "                             stop_words = 'english',   \\\n",
    "                             max_features = None) \n",
    "\n",
    "tf_transformer = TfidfTransformer(use_idf=True)\n",
    "\n",
    "train_data_features = vectorizer.fit_transform(train_reviews)\n",
    "test_data_features = vectorizer.transform(test_reviews)\n",
    "\n",
    "train_data_features = tf_transformer.fit_transform(train_data_features)\n",
    "test_data_features = tf_transformer.fit_transform(test_data_features)\n",
    "vocab = vectorizer.get_feature_names()"
   ]
  },
  {
   "cell_type": "code",
   "execution_count": null,
   "metadata": {
    "collapsed": true
   },
   "outputs": [],
   "source": [
    "lin_svm = svm.LinearSVC(multi_class='crammer_singer')\n",
    "lin_svm = lin_svm.fit(train_data_features, train_stars)\n",
    "lin_svm_result = lin_svm.predict(test_data_features)\n",
    "\n",
    "output = pd.DataFrame( data={\"Reviews\": test_reviews, \"Rating\": test_stars, \"Predicted_Rating\":lin_svm_result} )\n",
    "output['Lin_SVM_Accurate'] = np.where(output['Rating'] == output['Predicted_Rating'], 1, 0)\n",
    "accurate_percentage = float(sum(output['Lin_SVM_Accurate']))/float(len(output))\n",
    "\n",
    "print accurate_percentage"
   ]
  },
  {
   "cell_type": "code",
   "execution_count": null,
   "metadata": {
    "collapsed": true
   },
   "outputs": [],
   "source": [
    "#Try a RandomForest classifier\n",
    "forest = RandomForestClassifier(n_estimators = 200, criterion ='entropy')\n",
    "forest = forest.fit(train_data_features, train_stars)\n",
    "rf_result = forest.predict(test_data_features)\n",
    "\n",
    "output = pd.DataFrame( data={\"Reviews\": test_reviews, \"Rating\": test_stars, \"Predicted_Rating\":rf_result} )\n",
    "output['RF_Accurate'] = np.where(output['Rating'] == output['Predicted_Rating'], 1, 0)\n",
    "accurate_percentage = float(sum(output['RF_Accurate']))/float(len(output))\n",
    "\n",
    "print accurate_percentage"
   ]
  },
  {
   "cell_type": "code",
   "execution_count": null,
   "metadata": {
    "collapsed": true
   },
   "outputs": [],
   "source": [
    "bag_dt = BaggingClassifier(n_estimators=200, n_jobs=-1)\n",
    "bag_dt = bag_dt.fit(train_data_features, train_stars)\n",
    "bag_dt_result = bag_dt.predict(test_data_features)\n",
    "\n",
    "output = pd.DataFrame( data={\"Reviews\": test_reviews, \"Rating\": test_stars, \"Predicted_Rating\":bag_dt_result} )\n",
    "output['Bag_DT_Accurate'] = np.where(output['Rating'] == output['Predicted_Rating'], 1, 0)\n",
    "accurate_percentage = float(sum(output['Bag_DT_Accurate']))/float(len(output))\n",
    "\n",
    "print accurate_percentage"
   ]
  },
  {
   "cell_type": "code",
   "execution_count": null,
   "metadata": {
    "collapsed": true
   },
   "outputs": [],
   "source": [
    "svm_classifier = SGDClassifier(loss='perceptron', shuffle = False, eta0=10e-100, learning_rate='invscaling')\n",
    "svm_classifier = svm_classifier.fit(baseline_train_data_features, train_stars)\n",
    "svm_result = svm_classifier.predict(baseline_test_data_features)\n",
    "\n",
    "output = pd.DataFrame( data={\"Reviews\": test_reviews, \"Rating\": test_stars, \"Predicted_Rating\":svm_result} )\n",
    "output['SVM_Accurate'] = np.where(output['Rating'] == output['Predicted_Rating'], 1, 0)\n",
    "accurate_percentage = float(sum(output['SVM_Accurate']))/float(len(output))\n",
    "\n",
    "print accurate_percentage"
   ]
  },
  {
   "cell_type": "code",
   "execution_count": null,
   "metadata": {
    "collapsed": true
   },
   "outputs": [],
   "source": [
    "#Load in the Harvard-IV Sentiment Dictionary, then create a new list of only the negative words\n",
    "harvard_dict = pd.read_csv('HIV-4.csv')\n",
    "neg_words = list(set(harvard_dict[(harvard_dict.Negativ == 'Negativ')].Entry))\n",
    "neg_words = [x.lower() for x in pos_neg_words]\n",
    "cleaned_neg_words = []\n",
    "for word in pos_neg_words:\n",
    "    word = re.sub(\"#\", \"\", word)\n",
    "    word = re.sub(\"\\d\", \"\", word)\n",
    "    cleaned_neg_words.append(word)\n",
    "cleaned_neg_words = list(set(cleaned_words))"
   ]
  },
  {
   "cell_type": "code",
   "execution_count": null,
   "metadata": {
    "collapsed": true
   },
   "outputs": [],
   "source": [
    "#Here we build a list of sentiment words using past studies and analysis\n",
    "sentiment_words = ['worst', 'rude', 'terrible', 'horrible', 'bad', 'soggy', 'disappointing', 'overcooked', 'sorry',\n",
    "                 'awful', 'disgusting', 'bland', 'tasteless', 'gross', 'mediocre', 'worse', 'poor', \n",
    "                 'sexy', 'sensual', 'seductive', 'voluptuously', 'ravishing', 'ok', 'perfection', 'thank',\n",
    "                 'loved', 'reasonable', 'incredible', 'masterpiece', 'responsible', 'top-quality', 'fantastic!',\n",
    "                 'incompetent', 'fuck-up', 'spiders', 'yikes', 'ant', 'overpriced',\n",
    "                 'hedonistic', 'drug', 'addicting', 'addicted', 'sad', 'barely', 'favorite', 'favorites', 'die',\n",
    "                 'awesome', 'glad', 'delicious', 'dry', 'money', 'unfortunately', 'frozen']"
   ]
  },
  {
   "cell_type": "code",
   "execution_count": null,
   "metadata": {
    "collapsed": true
   },
   "outputs": [],
   "source": [
    "for n,i in enumerate(star_list):\n",
    "    if i==1:\n",
    "        star_list[n]='bad'\n",
    "    if i==2:\n",
    "        star_list[n]='bad'\n",
    "    if i==3:\n",
    "        star_list[n]='bad'\n",
    "    if i==4:\n",
    "        star_list[n]='good'\n",
    "    if i==5:\n",
    "        star_list[n]='good'"
   ]
  },
  {
   "cell_type": "code",
   "execution_count": null,
   "metadata": {
    "collapsed": true
   },
   "outputs": [],
   "source": [
    "#Separate out a random set of 5000 reviews into different ratings lists, then find the unique words in each list\n",
    "fives = []\n",
    "fours = []\n",
    "threes = []\n",
    "twos = []\n",
    "ones = []\n",
    "for state in states:\n",
    "    for review in state_dict[state][0:1000]:\n",
    "        if review['stars'] == 5:\n",
    "            fives.append(review['text'])\n",
    "        elif review['stars'] == 4:\n",
    "            fours.append(review['text'])\n",
    "        elif review['stars'] == 3:\n",
    "            threes.append(review['text'])\n",
    "        elif review['stars'] == 2:\n",
    "            twos.append(review['text'])\n",
    "        elif review['stars'] == 1:\n",
    "            ones.append(review['text'])"
   ]
  },
  {
   "cell_type": "code",
   "execution_count": null,
   "metadata": {
    "collapsed": true
   },
   "outputs": [],
   "source": [
    "threes = [x.split(\".\") for x in threes]\n",
    "threes = [item for sublist in threes for item in sublist]\n",
    "threes = [x.split(\" \") for x in threes]\n",
    "threes = [item for sublist in threes for item in sublist]\n",
    "threes = [x for x in threes if re.match('[a-zA-Z]', x)]\n",
    "threes = [re.sub('\\n','', x) for x in threes]\n",
    "threes = [x.lower() for x in threes]"
   ]
  }
 ],
 "metadata": {
  "anaconda-cloud": {},
  "kernelspec": {
   "display_name": "py3",
   "language": "python",
   "name": "py3"
  },
  "language_info": {
   "codemirror_mode": {
    "name": "ipython",
    "version": 2
   },
   "file_extension": ".py",
   "mimetype": "text/x-python",
   "name": "python",
   "nbconvert_exporter": "python",
   "pygments_lexer": "ipython2",
   "version": "2.7.12"
  }
 },
 "nbformat": 4,
 "nbformat_minor": 1
}
