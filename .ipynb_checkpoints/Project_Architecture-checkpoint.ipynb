{
 "cells": [
  {
   "cell_type": "markdown",
   "metadata": {},
   "source": [
    "## Data Ingestion\n",
    "\n",
    "We gathered raw data from the Yelp Academic dataset challenge, available at the following link:\n",
    "https://www.yelp.com/dataset_challenge\n",
    "\n",
    "The main JSON files are below: \n",
    "\n",
    "1. yelp_academic_dataset_business\n",
    "2. yelp_academic_dataset_review\n",
    "3. yelp_academic_dataset_customer\n",
    "\n",
    "We focus on the reviews and business JSON file. We came up with our training dataset by using the following cleaning algorithm.\n",
    "\n",
    "Further, we have written our own Python scripts to scrap Yelp reviews in the DC area. For each restaurant, we have longitude, latitutde, its rating, and all of its reviews."
   ]
  },
  {
   "cell_type": "markdown",
   "metadata": {},
   "source": [
    "#### Data Cleaning Algorithm\n",
    "\n",
    "<h5> For each business entry: </h5>\n",
    "<ul>\n",
    "    <li> Keep if business is restaurant </li>\n",
    "    <li> Keep if location is in state list  </li>\n",
    "    <li> Output list of valid businesses </li>\n",
    "    <li> Output json file for all busineses and business attributes </li>\n",
    "</ul>\n",
    "\n",
    "<h5> For each review entry: </h5>\n",
    "<ul>\n",
    "    <li> Keep only businesses in valid business list </li>\n",
    "    <li> Create a dictionary with each business as a key </li>\n",
    "    <li> For each key, create a list of unique customers in that business </li>\n",
    "    <li> Find the unique list of customers for all businesses </li>\n",
    "    <li> Output json file for all filtered reviews and review attributes </li>\n",
    "</ul>"
   ]
  },
  {
   "cell_type": "markdown",
   "metadata": {},
   "source": [
    "## Data Storage\n",
    "\n",
    "We set up mongoDB on an Amazon EC2 instance within the Amazon Web Services system. Further, we save all of our raw .JSON files on Amazon S3 and use wget to import all raw files into our EC2 instance. From here, we're able to use pymongo to import data on the fly into our local machines."
   ]
  },
  {
   "cell_type": "markdown",
   "metadata": {},
   "source": [
    "## Data Analysis\n",
    "\n",
    "For a first pass, we use the Python modules Pandas, NumPy, and Matplotlib to look at the descriptive statistics for our set of data. Specifically, we look at the following descriptive statistics:\n",
    "\n",
    "1. For the overall cleaned reviews dataset, we graph a histogram of reviews in order to get a general idea for how the ratings for reviews are distributed.\n",
    "2. For the overall cleaned restaurant dataset, we grapha  histogram of restaurant ratings in order to get a general idea of how restaurant ratings are distributed. Ex-ante, we expect both distributions to closely follow each other (i.e. have a low Kullback-Leibler divergence).\n",
    "3. For each state, we perform steps 1 & 2 in order to get a general sense of how the ratings distribution for both reviews and restaurants differs across states.\n",
    "4. The restaurant dataset contains longitude and latitude coordinates. We are interested in the concentration of restaurant ratings. That is, we set longitude as the Y axis and latitutde as the X axis. Next, we create a mapping from a set of 5 different colors to the rating set {1, 2, 3, 4, 5}. We plot each restaurant on this graph. The result is a \"heat map\" of restaurants for each state.\n",
    "5. For the overall cleaned reviews and cleaned restaurant datsets we find basic statistics such as:\n",
    "    * Mean\n",
    "    * Median\n",
    "    * Mode\n",
    "    * Lowest Quantile\n",
    "    * Highest Quantile"
   ]
  },
  {
   "cell_type": "markdown",
   "metadata": {},
   "source": [
    "## Data Modelling\n",
    "\n",
    "The ultimate goal of this project is to find what makes a restaurant \"good\" on Yelp. In the parlance of machine learning, we would like to develop a method by which to classify reviews. Then, using restaurant reviews we would like to classify the restaurants rating. We train on a subset of the Yelp Academic data set, identified using the above Data Analysis process. We use our DC-area restaurants and associated reviews as the test set.\n",
    "\n",
    "We will focus on the following machine learning/econometric models:\n",
    "1. Random Forest\n",
    "2. Bagged Decision Trees\n",
    "3. Multinomial Logistic Regression\n",
    "4. Support Vector Machine\n",
    "5. Linear Support Vector Machine"
   ]
  },
  {
   "cell_type": "markdown",
   "metadata": {},
   "source": [
    "## Data Product\n",
    "\n",
    "Our primary data product will be a dataframe, where each tuple in the frame is defined by the following:\n",
    "\n",
    "(Review Text, Review Rating, Random Forest Prediction, Bagged Decision Tree Prediction,\n",
    "Multinomial Logistic Prediction, Support Vector Machine Prediction, Linear Support Vector Machine Prediction)\n",
    "\n",
    "That is, our data product will primarily consist of a dataframe containing our test data attributes and the results from each of our classification algorithms.\n",
    "\n",
    "Furthermore, depending on the classification algorithm used, the top features have interpretative results. For example, with a linear support vector machine the absolute value of the coefficient weights of each feature given an indication of how important each feature was in classification relative to the other features. This arises because a linear SVM relies on a separating hyperplane in separating the classes. Feature weights are the elements of an orthogonal vector to this hyperplane. \n"
   ]
  },
  {
   "cell_type": "markdown",
   "metadata": {},
   "source": [
    "## Data Visualization\n",
    "\n",
    "Depending on the interpreability of the top features, we will create visualizations for each classification algorithm. We will also present the \"heat\" map above as well as the different ratings distributions for reviews and businesses. Finally, we will craft a visualization that summarizes the results of our data product."
   ]
  }
 ],
 "metadata": {
  "kernelspec": {
   "display_name": "py3",
   "language": "python",
   "name": "py3"
  },
  "language_info": {
   "codemirror_mode": {
    "name": "ipython",
    "version": 2
   },
   "file_extension": ".py",
   "mimetype": "text/x-python",
   "name": "python",
   "nbconvert_exporter": "python",
   "pygments_lexer": "ipython2",
   "version": "2.7.12"
  }
 },
 "nbformat": 4,
 "nbformat_minor": 1
}
